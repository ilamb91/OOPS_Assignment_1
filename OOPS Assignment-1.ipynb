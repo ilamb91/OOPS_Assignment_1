{
 "cells": [
  {
   "cell_type": "markdown",
   "id": "e1765f34-3dd6-4c33-8d9c-036221b3ec99",
   "metadata": {},
   "source": [
    "Q1. Explain Class and Object with respect to Object-Oriented Programming. Give a suitable example."
   ]
  },
  {
   "cell_type": "markdown",
   "id": "cda0b787-ce7c-4432-a445-1a839e3623f0",
   "metadata": {},
   "source": [
    "A1. A class is a user-defined blueprint or prototype from which objects are created. Classes provide a means of bundling data and functionality together. Creating a new class creates a new type of object, allowing new instances of that type to be made. Each class instance can have attributes attached to it for maintaining its state. Class instances can also have methods (defined by their class) for modifying their state."
   ]
  },
  {
   "cell_type": "code",
   "execution_count": 8,
   "id": "b7f3eaa5-b093-4e73-8177-8ca14f9cf376",
   "metadata": {},
   "outputs": [],
   "source": [
    "class pwskills :\n",
    "    def welcome_msg(self):\n",
    "        print (\"Hello to pwskills\")"
   ]
  },
  {
   "cell_type": "code",
   "execution_count": 9,
   "id": "1af3a114-6e57-4260-bd6c-4db2525fbdba",
   "metadata": {},
   "outputs": [],
   "source": [
    "lamb = pwskills ()"
   ]
  },
  {
   "cell_type": "code",
   "execution_count": 10,
   "id": "5165e3f0-9b48-4fa2-a8d5-13b01086e96a",
   "metadata": {},
   "outputs": [
    {
     "name": "stdout",
     "output_type": "stream",
     "text": [
      "Hello to pwskills\n"
     ]
    }
   ],
   "source": [
    "lamb.welcome_msg()"
   ]
  },
  {
   "cell_type": "markdown",
   "id": "319c0a61-93bc-4ccf-b87c-320a78a72ffb",
   "metadata": {},
   "source": [
    "Q2. Name the four pillars of OOPs."
   ]
  },
  {
   "cell_type": "markdown",
   "id": "0792c9ae-98f1-4b75-8b7e-f64d741b0eed",
   "metadata": {},
   "source": [
    "A2. The Four pillars of OOPs, abstraction, encapsulation, inheritance, and polymorphism, are integral to understanding and using OOP. By using these four pillars of OOPs, developers can create programs that are powerful, maintainable, and extensible, making them a great choice for software development."
   ]
  },
  {
   "cell_type": "markdown",
   "id": "9e7dfffd-8eec-492b-b24d-bf2b14a0e3dc",
   "metadata": {},
   "source": [
    "Q3. Explain why the __init__() function is used. Give a suitable example."
   ]
  },
  {
   "cell_type": "markdown",
   "id": "d0da8365-f273-47bc-987a-23e1fb939ae4",
   "metadata": {},
   "source": [
    "A3. \"__init__\" is a reseved method in python classes. It is known as a constructor in object oriented concepts. This method called when an object is created from the class and it allow the class to initialize the attributes of a class."
   ]
  },
  {
   "cell_type": "code",
   "execution_count": 11,
   "id": "84ad3aa6-5af6-4194-b435-6a5399704aab",
   "metadata": {},
   "outputs": [],
   "source": [
    "class test :\n",
    "    \n",
    "    def __init__ (self , a, b):\n",
    "        self.a = a\n",
    "        self.b = b"
   ]
  },
  {
   "cell_type": "code",
   "execution_count": 12,
   "id": "afc46740-e2ae-41be-b109-69d11b6d8c7c",
   "metadata": {},
   "outputs": [],
   "source": [
    "t = test(23,34)"
   ]
  },
  {
   "cell_type": "code",
   "execution_count": 13,
   "id": "238c00e2-5e2d-45a5-bcb7-fc32d78c5495",
   "metadata": {},
   "outputs": [],
   "source": [
    "t.a = 2343435352"
   ]
  },
  {
   "cell_type": "code",
   "execution_count": 14,
   "id": "a73f2c08-475d-4cb6-a17a-e9ae35a38cb6",
   "metadata": {},
   "outputs": [
    {
     "data": {
      "text/plain": [
       "2343435352"
      ]
     },
     "execution_count": 14,
     "metadata": {},
     "output_type": "execute_result"
    }
   ],
   "source": [
    "t.a"
   ]
  },
  {
   "cell_type": "markdown",
   "id": "af7383ca-0ff9-4404-a778-2475882d2382",
   "metadata": {},
   "source": [
    "Q4. Why self is used in OOPs?"
   ]
  },
  {
   "cell_type": "markdown",
   "id": "27761318-38a8-48a4-a7d3-59096c00bc74",
   "metadata": {},
   "source": [
    "A4. Self represents the instance of the class. By using the “self” we can access the attributes and methods of the class in python. It binds the attributes with the given arguments. The reason you need to use self. is because Python does not use the @ syntax to refer to instance attributes."
   ]
  },
  {
   "cell_type": "markdown",
   "id": "6fd0ccb6-638a-4b08-85a6-e83a8f05f10a",
   "metadata": {},
   "source": [
    "Q5. What is inheritance? Give an example for each type of inheritance."
   ]
  },
  {
   "cell_type": "markdown",
   "id": "a27c8306-411d-4240-a730-3ca770a7f9e4",
   "metadata": {},
   "source": [
    "A5. Inheritance allows us to define a class that inherits all the methods and properties from another class. Parent class is the class being inherited from, also called base class. Child class is the class that inherits from another class, also called derived class."
   ]
  },
  {
   "cell_type": "code",
   "execution_count": 15,
   "id": "de070802-2d0a-4d15-84c8-bf19952c1d70",
   "metadata": {},
   "outputs": [],
   "source": [
    "class test:\n",
    "    \n",
    "    def test_metho (self):\n",
    "        return \"this is my first class\""
   ]
  },
  {
   "cell_type": "code",
   "execution_count": 16,
   "id": "36e07a5a-89db-4600-ad53-02eb56ed3f6d",
   "metadata": {},
   "outputs": [],
   "source": [
    "class child_test(test):\n",
    "    pass"
   ]
  },
  {
   "cell_type": "code",
   "execution_count": 17,
   "id": "92509472-3d1d-41f7-b413-127143933b58",
   "metadata": {},
   "outputs": [],
   "source": [
    "child_test_obj = child_test()"
   ]
  },
  {
   "cell_type": "code",
   "execution_count": 19,
   "id": "40abe2cb-c4cd-4db0-b995-ebefa1fa4dd4",
   "metadata": {},
   "outputs": [
    {
     "data": {
      "text/plain": [
       "'this is my first class'"
      ]
     },
     "execution_count": 19,
     "metadata": {},
     "output_type": "execute_result"
    }
   ],
   "source": [
    "child_test_obj.test_metho()"
   ]
  },
  {
   "cell_type": "code",
   "execution_count": null,
   "id": "0d7b7e75-29bb-49e1-87b2-01dc73dda305",
   "metadata": {},
   "outputs": [],
   "source": []
  }
 ],
 "metadata": {
  "kernelspec": {
   "display_name": "Python 3 (ipykernel)",
   "language": "python",
   "name": "python3"
  },
  "language_info": {
   "codemirror_mode": {
    "name": "ipython",
    "version": 3
   },
   "file_extension": ".py",
   "mimetype": "text/x-python",
   "name": "python",
   "nbconvert_exporter": "python",
   "pygments_lexer": "ipython3",
   "version": "3.10.8"
  }
 },
 "nbformat": 4,
 "nbformat_minor": 5
}
